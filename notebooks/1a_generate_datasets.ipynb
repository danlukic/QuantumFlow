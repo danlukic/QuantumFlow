{
 "cells": [
  {
   "cell_type": "markdown",
   "metadata": {
    "colab_type": "text",
    "id": "AceyMG6A818I"
   },
   "source": [
    "### Generate M random potentials on [0, L] as sum of n gaussian kernels on G discretization points\n",
    "\n",
    "\n",
    "there are 3 uniformly distributed random parameters a, b, c\n",
    "the potential is calculated by:\n",
    "\n",
    "$$\n",
    "V(x) = -\\sum_{n=1}^{3} a_n \\exp \\left(-\\frac{(x - b_n)^2}{2c_n^2} \\right)\n",
    "$$\n",
    "\n",
    "### Then solve the schroedinger equation in atomic units for 4 spinless non-interacting fermions.\n",
    "\n",
    "The shooting numerov algorithm calculates a forward pass and a backward pass solution.\n",
    "\n",
    "The final solution is then found by aligning the two passes and finding a good split point to concatenate them.\n",
    "\n",
    "All integrals are approximated by the trapezoidal method.\n",
    "The numerical differentiation for the laplacian uses the standard approximation.\n",
    "\n",
    "### Usage:\n",
    "\n",
    "Setting the dataset variable to different values will allow generating all the variations of the datasets:\n",
    "standard, recreate, recreate/fine_0.125, ..., recreate/fine_10\n"
   ]
  },
  {
   "cell_type": "code",
   "execution_count": 1,
   "metadata": {
    "colab": {
     "base_uri": "https://localhost:8080/",
     "height": 184
    },
    "colab_type": "code",
    "executionInfo": {
     "elapsed": 49002,
     "status": "ok",
     "timestamp": 1579462167762,
     "user": {
      "displayName": "Manuel Weichselbaum",
      "photoUrl": "https://lh3.googleusercontent.com/a-/AAuE7mCzMR-Tpz-d20xDEyvFKqApTdbEtqQvSmddyJ_MQw=s64",
      "userId": "06267406876874183847"
     },
     "user_tz": -60
    },
    "id": "li1ErA458yZN",
    "outputId": "fae49ab4-ebec-4f56-ec5a-2906aa72cd4d"
   },
   "outputs": [],
   "source": [
    "# setup notebook if it is run on Google Colab, cwd = notebook file location\n",
    "try:\n",
    "    # change notebook_path if this notebook is in a different subfolder of Google Drive\n",
    "    notebook_path = \"Projects/QuantumFlow/notebooks\"\n",
    "\n",
    "    import os\n",
    "    from google.colab import drive\n",
    "    drive.mount('/content/gdrive')\n",
    "    os.chdir(\"/content/gdrive/My Drive/\" + notebook_path)\n",
    "\n",
    "    %tensorflow_version 2.x\n",
    "    !pip install -q ruamel.yaml\n",
    "except:\n",
    "    pass\n",
    "\n",
    "# imports\n",
    "import tensorflow as tf\n",
    "\n",
    "# setup paths and variables for shared code (../quantumflow) and data (../data)\n",
    "import sys\n",
    "sys.path.append('../')\n",
    "data_dir = \"../data\"\n",
    "\n",
    "# import shared code, must run 0_create_shared_project_files.ipynb first!\n",
    "from quantumflow.generate_datasets import generate_potentials, generate_datasets"
   ]
  },
  {
   "cell_type": "markdown",
   "metadata": {
    "colab_type": "text",
    "id": "edRYj22U9BnV"
   },
   "source": [
    "# Recreate Dataset"
   ]
  },
  {
   "cell_type": "code",
   "execution_count": 2,
   "metadata": {
    "colab": {},
    "colab_type": "code",
    "id": "2YnqkGwo841l"
   },
   "outputs": [],
   "source": [
    "experiment = \"recreate\"\n",
    "base_dir = os.path.join(data_dir, experiment)\n",
    "if not os.path.exists(base_dir): os.makedirs(base_dir)\n",
    "file_hyperparams = os.path.join(base_dir, \"hyperparams.config\")"
   ]
  },
  {
   "cell_type": "code",
   "execution_count": 3,
   "metadata": {
    "colab": {
     "base_uri": "https://localhost:8080/",
     "height": 35
    },
    "colab_type": "code",
    "executionInfo": {
     "elapsed": 1857,
     "status": "ok",
     "timestamp": 1579462181919,
     "user": {
      "displayName": "Manuel Weichselbaum",
      "photoUrl": "https://lh3.googleusercontent.com/a-/AAuE7mCzMR-Tpz-d20xDEyvFKqApTdbEtqQvSmddyJ_MQw=s64",
      "userId": "06267406876874183847"
     },
     "user_tz": -60
    },
    "id": "7zBpBxs09DW-",
    "outputId": "8668ff19-971a-4809-e57f-667259537769"
   },
   "outputs": [
    {
     "name": "stdout",
     "output_type": "stream",
     "text": [
      "Overwriting ../data/recreate/hyperparams.config\n"
     ]
    }
   ],
   "source": [
    "%%writefile $file_hyperparams\n",
    "globals: []\n",
    "\n",
    "train: &DEFAULT\n",
    "    filename: dataset_train\n",
    "    format: hdf5 # pickle, hdf5\n",
    "    seed: 0\n",
    "    n_orbitals: 4 # N\n",
    "    dataset_size: 100 # M\n",
    "\n",
    "    discretisation_points: 500 # G\n",
    "    interval_length: 1.0 # [Bohr]\n",
    "    n_gauss: 3 # number of gaussians \n",
    "    n_method: sum # sum or mean the gaussians\n",
    "    a_minmax: [1.0, 10.0] # [hartree] \n",
    "    b_minmax: [0.4, 0.6] # nomalized x\n",
    "    c_minmax: [0.03, 0.1] # nomalized x\n",
    "\n",
    "    dtype: float64\n",
    "    numerov_init_slope: 5.0\n",
    "\n",
    "validate:\n",
    "    <<: *DEFAULT\n",
    "    filename: dataset_validate\n",
    "    seed: -1\n",
    "    dataset_size: 800\n",
    "\n",
    "test:\n",
    "    <<: *DEFAULT\n",
    "    filename: dataset_test\n",
    "    seed: -2\n",
    "    dataset_size: 8000\n",
    "\n",
    "self_consistency:\n",
    "    <<: *DEFAULT\n",
    "    filename: dataset_self_consistency\n",
    "    seed: -3\n",
    "    dataset_size: 100\n",
    "\n",
    "full:\n",
    "    <<: *DEFAULT\n",
    "    filename: dataset_full\n",
    "    seed: 1\n",
    "    dataset_size: 10000\n",
    "\n",
    "fine:\n",
    "    <<: *DEFAULT\n",
    "    filename: dataset_fine\n",
    "    discretisation_points: 4991\n",
    "\n",
    "float:\n",
    "    <<: *DEFAULT\n",
    "    filename: dataset_float\n",
    "    dtype: float32"
   ]
  },
  {
   "cell_type": "code",
   "execution_count": 4,
   "metadata": {
    "colab": {
     "base_uri": "https://localhost:8080/",
     "height": 386
    },
    "colab_type": "code",
    "executionInfo": {
     "elapsed": 330584,
     "status": "ok",
     "timestamp": 1579462510815,
     "user": {
      "displayName": "Manuel Weichselbaum",
      "photoUrl": "https://lh3.googleusercontent.com/a-/AAuE7mCzMR-Tpz-d20xDEyvFKqApTdbEtqQvSmddyJ_MQw=s64",
      "userId": "06267406876874183847"
     },
     "user_tz": -60
    },
    "id": "XiVpwWE59EyE",
    "outputId": "0a55f965-c01c-463b-83c8-c03b7453d0ae"
   },
   "outputs": [
    {
     "name": "stdout",
     "output_type": "stream",
     "text": [
      "dataset dataset_train.hdf5 saved to ../data/recreate\n",
      "dataset dataset_validate.hdf5 saved to ../data/recreate\n",
      "dataset dataset_test.hdf5 saved to ../data/recreate\n",
      "dataset dataset_self_consistency.hdf5 saved to ../data/recreate\n",
      "WARNING:tensorflow:5 out of the last 5 calls to <function generate_potentials at 0x7f0968541440> triggered tf.function retracing. Tracing is expensive and the excessive number of tracings is likely due to passing python objects instead of tensors. Also, tf.function has experimental_relax_shapes=True option that relaxes argument shapes that can avoid unnecessary retracing. Please refer to https://www.tensorflow.org/beta/tutorials/eager/tf_function#python_or_tensor_args and https://www.tensorflow.org/api_docs/python/tf/function for more details.\n",
      "WARNING:tensorflow:5 out of the last 5 calls to <function find_split_energies at 0x7f092a7fd290> triggered tf.function retracing. Tracing is expensive and the excessive number of tracings is likely due to passing python objects instead of tensors. Also, tf.function has experimental_relax_shapes=True option that relaxes argument shapes that can avoid unnecessary retracing. Please refer to https://www.tensorflow.org/beta/tutorials/eager/tf_function#python_or_tensor_args and https://www.tensorflow.org/api_docs/python/tf/function for more details.\n",
      "WARNING:tensorflow:5 out of the last 9 calls to <function solve_numerov at 0x7f092a7fd440> triggered tf.function retracing. Tracing is expensive and the excessive number of tracings is likely due to passing python objects instead of tensors. Also, tf.function has experimental_relax_shapes=True option that relaxes argument shapes that can avoid unnecessary retracing. Please refer to https://www.tensorflow.org/beta/tutorials/eager/tf_function#python_or_tensor_args and https://www.tensorflow.org/api_docs/python/tf/function for more details.\n",
      "WARNING:tensorflow:5 out of the last 5 calls to <function solve_schroedinger at 0x7f092a7fd4d0> triggered tf.function retracing. Tracing is expensive and the excessive number of tracings is likely due to passing python objects instead of tensors. Also, tf.function has experimental_relax_shapes=True option that relaxes argument shapes that can avoid unnecessary retracing. Please refer to https://www.tensorflow.org/beta/tutorials/eager/tf_function#python_or_tensor_args and https://www.tensorflow.org/api_docs/python/tf/function for more details.\n",
      "dataset dataset_fine.hdf5 saved to ../data/recreate\n",
      "WARNING:tensorflow:6 out of the last 6 calls to <function generate_potentials at 0x7f0968541440> triggered tf.function retracing. Tracing is expensive and the excessive number of tracings is likely due to passing python objects instead of tensors. Also, tf.function has experimental_relax_shapes=True option that relaxes argument shapes that can avoid unnecessary retracing. Please refer to https://www.tensorflow.org/beta/tutorials/eager/tf_function#python_or_tensor_args and https://www.tensorflow.org/api_docs/python/tf/function for more details.\n",
      "WARNING:tensorflow:6 out of the last 6 calls to <function find_split_energies at 0x7f092a7fd290> triggered tf.function retracing. Tracing is expensive and the excessive number of tracings is likely due to passing python objects instead of tensors. Also, tf.function has experimental_relax_shapes=True option that relaxes argument shapes that can avoid unnecessary retracing. Please refer to https://www.tensorflow.org/beta/tutorials/eager/tf_function#python_or_tensor_args and https://www.tensorflow.org/api_docs/python/tf/function for more details.\n",
      "WARNING:tensorflow:6 out of the last 11 calls to <function solve_numerov at 0x7f092a7fd440> triggered tf.function retracing. Tracing is expensive and the excessive number of tracings is likely due to passing python objects instead of tensors. Also, tf.function has experimental_relax_shapes=True option that relaxes argument shapes that can avoid unnecessary retracing. Please refer to https://www.tensorflow.org/beta/tutorials/eager/tf_function#python_or_tensor_args and https://www.tensorflow.org/api_docs/python/tf/function for more details.\n",
      "WARNING:tensorflow:6 out of the last 6 calls to <function solve_schroedinger at 0x7f092a7fd4d0> triggered tf.function retracing. Tracing is expensive and the excessive number of tracings is likely due to passing python objects instead of tensors. Also, tf.function has experimental_relax_shapes=True option that relaxes argument shapes that can avoid unnecessary retracing. Please refer to https://www.tensorflow.org/beta/tutorials/eager/tf_function#python_or_tensor_args and https://www.tensorflow.org/api_docs/python/tf/function for more details.\n",
      "dataset dataset_float.hdf5 saved to ../data/recreate\n",
      "WARNING:tensorflow:7 out of the last 7 calls to <function generate_potentials at 0x7f0968541440> triggered tf.function retracing. Tracing is expensive and the excessive number of tracings is likely due to passing python objects instead of tensors. Also, tf.function has experimental_relax_shapes=True option that relaxes argument shapes that can avoid unnecessary retracing. Please refer to https://www.tensorflow.org/beta/tutorials/eager/tf_function#python_or_tensor_args and https://www.tensorflow.org/api_docs/python/tf/function for more details.\n",
      "WARNING:tensorflow:7 out of the last 7 calls to <function find_split_energies at 0x7f092a7fd290> triggered tf.function retracing. Tracing is expensive and the excessive number of tracings is likely due to passing python objects instead of tensors. Also, tf.function has experimental_relax_shapes=True option that relaxes argument shapes that can avoid unnecessary retracing. Please refer to https://www.tensorflow.org/beta/tutorials/eager/tf_function#python_or_tensor_args and https://www.tensorflow.org/api_docs/python/tf/function for more details.\n",
      "WARNING:tensorflow:6 out of the last 11 calls to <function solve_numerov at 0x7f092a7fd440> triggered tf.function retracing. Tracing is expensive and the excessive number of tracings is likely due to passing python objects instead of tensors. Also, tf.function has experimental_relax_shapes=True option that relaxes argument shapes that can avoid unnecessary retracing. Please refer to https://www.tensorflow.org/beta/tutorials/eager/tf_function#python_or_tensor_args and https://www.tensorflow.org/api_docs/python/tf/function for more details.\n",
      "WARNING:tensorflow:7 out of the last 7 calls to <function solve_schroedinger at 0x7f092a7fd4d0> triggered tf.function retracing. Tracing is expensive and the excessive number of tracings is likely due to passing python objects instead of tensors. Also, tf.function has experimental_relax_shapes=True option that relaxes argument shapes that can avoid unnecessary retracing. Please refer to https://www.tensorflow.org/beta/tutorials/eager/tf_function#python_or_tensor_args and https://www.tensorflow.org/api_docs/python/tf/function for more details.\n",
      "dataset dataset_full.hdf5 saved to ../data/recreate\n"
     ]
    }
   ],
   "source": [
    "generate_datasets(data_dir=data_dir, experiment='recreate', generate_names=['train', 'validate', 'test', 'self_consistency', 'fine', 'float', 'full'])"
   ]
  },
  {
   "cell_type": "code",
   "execution_count": null,
   "metadata": {
    "colab": {},
    "colab_type": "code",
    "id": "iJBlKyVr9Gsa"
   },
   "outputs": [],
   "source": []
  }
 ],
 "metadata": {
  "accelerator": "GPU",
  "colab": {
   "authorship_tag": "ABX9TyN8Fgi/OnzHfrs15L7LljJW",
   "collapsed_sections": [],
   "name": "1a_generate_datasets.ipynb",
   "provenance": []
  },
  "kernelspec": {
   "display_name": "Python 3",
   "language": "python",
   "name": "python3"
  },
  "language_info": {
   "codemirror_mode": {
    "name": "ipython",
    "version": 3
   },
   "file_extension": ".py",
   "mimetype": "text/x-python",
   "name": "python",
   "nbconvert_exporter": "python",
   "pygments_lexer": "ipython3",
   "version": "3.7.4"
  }
 },
 "nbformat": 4,
 "nbformat_minor": 4
}
