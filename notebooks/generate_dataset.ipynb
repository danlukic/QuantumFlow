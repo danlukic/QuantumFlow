{
 "cells": [
  {
   "cell_type": "code",
   "execution_count": 1,
   "metadata": {
    "colab": {
     "base_uri": "https://localhost:8080/"
    },
    "executionInfo": {
     "elapsed": 3331,
     "status": "ok",
     "timestamp": 1626192564936,
     "user": {
      "displayName": "Manuel Weichselbaum",
      "photoUrl": "https://lh3.googleusercontent.com/a-/AOh14GgPQGL0feGLPxOFYVc0a8_ydIEYX8o1epv_KEzYUSc=s64",
      "userId": "06267406876874183847"
     },
     "user_tz": -120
    },
    "id": "UE_ZmJWl8cgJ",
    "outputId": "0fd7ade5-0a73-4786-8cc4-4c3670d27e3e"
   },
   "outputs": [],
   "source": [
    "import os\n",
    "import sys\n",
    "\n",
    "try:\n",
    "    from google.colab import drive\n",
    "    drive.mount('/content/drive')\n",
    "    !pip install -q ruamel.yaml\n",
    "    project_path = '/content/drive/MyDrive/Colab Projects/QuantumFlow'\n",
    "except:\n",
    "    project_path = os.path.expanduser('~/QuantumFlow')"
   ]
  },
  {
   "cell_type": "code",
   "execution_count": null,
   "metadata": {
    "executionInfo": {
     "elapsed": 7726,
     "status": "ok",
     "timestamp": 1626192572660,
     "user": {
      "displayName": "Manuel Weichselbaum",
      "photoUrl": "https://lh3.googleusercontent.com/a-/AOh14GgPQGL0feGLPxOFYVc0a8_ydIEYX8o1epv_KEzYUSc=s64",
      "userId": "06267406876874183847"
     },
     "user_tz": -120
    },
    "id": "eIF_BLVQBAvZ"
   },
   "outputs": [],
   "source": [
    "os.chdir(project_path)\n",
    "sys.path.append(project_path)\n",
    "if not os.path.exists('experiments'): os.makedirs('experiments')\n",
    "\n",
    "import quantumflow"
   ]
  },
  {
   "cell_type": "code",
   "execution_count": null,
   "metadata": {
    "executionInfo": {
     "elapsed": 4,
     "status": "ok",
     "timestamp": 1626192572662,
     "user": {
      "displayName": "Manuel Weichselbaum",
      "photoUrl": "https://lh3.googleusercontent.com/a-/AOh14GgPQGL0feGLPxOFYVc0a8_ydIEYX8o1epv_KEzYUSc=s64",
      "userId": "06267406876874183847"
     },
     "user_tz": -120
    },
    "id": "esmEHyPJNgt6"
   },
   "outputs": [],
   "source": [
    "experiment = 'snyder_2012'\n",
    "run_name = 'train_dataset'\n",
    "\n",
    "base_dir = os.path.join(project_path, \"experiments\", experiment)\n",
    "params = quantumflow.utils.load_yaml(os.path.join(base_dir, 'hyperparams.yaml'))[run_name]\n",
    "run_dir = os.path.join(base_dir, run_name)"
   ]
  },
  {
   "cell_type": "code",
   "execution_count": null,
   "metadata": {
    "colab": {
     "base_uri": "https://localhost:8080/"
    },
    "executionInfo": {
     "elapsed": 680,
     "status": "ok",
     "timestamp": 1626192573339,
     "user": {
      "displayName": "Manuel Weichselbaum",
      "photoUrl": "https://lh3.googleusercontent.com/a-/AOh14GgPQGL0feGLPxOFYVc0a8_ydIEYX8o1epv_KEzYUSc=s64",
      "userId": "06267406876874183847"
     },
     "user_tz": -120
    },
    "id": "Oh0RaTo8RfX6",
    "outputId": "00a93ca7-25e2-4786-d57e-16b2eac28a68"
   },
   "outputs": [],
   "source": [
    "if not os.path.exists(run_dir): os.makedirs(run_dir)\n",
    "\n",
    "dataset = quantumflow.instantiate(params, run_dir=run_dir)\n",
    "dataset.build()"
   ]
  },
  {
   "cell_type": "code",
   "execution_count": null,
   "metadata": {
    "colab": {
     "base_uri": "https://localhost:8080/",
     "height": 1000
    },
    "executionInfo": {
     "elapsed": 1947,
     "status": "ok",
     "timestamp": 1626192575284,
     "user": {
      "displayName": "Manuel Weichselbaum",
      "photoUrl": "https://lh3.googleusercontent.com/a-/AOh14GgPQGL0feGLPxOFYVc0a8_ydIEYX8o1epv_KEzYUSc=s64",
      "userId": "06267406876874183847"
     },
     "user_tz": -120
    },
    "id": "77HEq5tNdZSi",
    "outputId": "7fcf0b15-9d89-4f92-87c9-98d83cf1cccb"
   },
   "outputs": [],
   "source": [
    "dataset.visualize()"
   ]
  },
  {
   "cell_type": "code",
   "execution_count": null,
   "metadata": {
    "executionInfo": {
     "elapsed": 3,
     "status": "ok",
     "timestamp": 1626192575284,
     "user": {
      "displayName": "Manuel Weichselbaum",
      "photoUrl": "https://lh3.googleusercontent.com/a-/AOh14GgPQGL0feGLPxOFYVc0a8_ydIEYX8o1epv_KEzYUSc=s64",
      "userId": "06267406876874183847"
     },
     "user_tz": -120
    },
    "id": "EZVB72G3cJXT"
   },
   "outputs": [],
   "source": []
  }
 ],
 "metadata": {
  "colab": {
   "collapsed_sections": [],
   "name": "generate_dataset.ipynb",
   "provenance": []
  },
  "kernelspec": {
   "display_name": "Python 3 (ipykernel)",
   "language": "python",
   "name": "python3"
  },
  "language_info": {
   "codemirror_mode": {
    "name": "ipython",
    "version": 3
   },
   "file_extension": ".py",
   "mimetype": "text/x-python",
   "name": "python",
   "nbconvert_exporter": "python",
   "pygments_lexer": "ipython3",
   "version": "3.8.10"
  }
 },
 "nbformat": 4,
 "nbformat_minor": 4
}
